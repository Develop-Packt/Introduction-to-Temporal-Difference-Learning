{
 "cells": [
  {
   "cell_type": "code",
   "execution_count": 1,
   "metadata": {},
   "outputs": [],
   "source": [
    "import numpy as np\n",
    "import matplotlib.pyplot as plt\n",
    "%matplotlib inline\n",
    "\n",
    "import gym"
   ]
  },
  {
   "cell_type": "code",
   "execution_count": 2,
   "metadata": {},
   "outputs": [],
   "source": [
    "env = gym.make('FrozenLake-v0', is_slippery=True)"
   ]
  },
  {
   "cell_type": "code",
   "execution_count": 3,
   "metadata": {},
   "outputs": [
    {
     "name": "stdout",
     "output_type": "stream",
     "text": [
      "Action space =  Discrete(4)\n",
      "Observation space =  Discrete(16)\n"
     ]
    }
   ],
   "source": [
    "print(\"Action space = \", env.action_space)\n",
    "print(\"Observation space = \", env.observation_space)"
   ]
  },
  {
   "cell_type": "code",
   "execution_count": 4,
   "metadata": {},
   "outputs": [],
   "source": [
    "actionsDict = {}\n",
    "actionsDict[0] = \"  L  \"\n",
    "actionsDict[1] = \"  D  \"\n",
    "actionsDict[2] = \"  R  \"\n",
    "actionsDict[3] = \"  U  \"\n",
    "\n",
    "actionsDictInv = {}\n",
    "actionsDictInv[\"L\"] = 0\n",
    "actionsDictInv[\"D\"] = 1\n",
    "actionsDictInv[\"R\"] = 2\n",
    "actionsDictInv[\"U\"] = 3"
   ]
  },
  {
   "cell_type": "code",
   "execution_count": 5,
   "metadata": {},
   "outputs": [
    {
     "name": "stdout",
     "output_type": "stream",
     "text": [
      "\n",
      "\u001b[41mS\u001b[0mFFF\n",
      "FHFH\n",
      "FFFH\n",
      "HFFG\n"
     ]
    }
   ],
   "source": [
    "env.reset()\n",
    "env.render()"
   ]
  },
  {
   "cell_type": "code",
   "execution_count": 6,
   "metadata": {},
   "outputs": [
    {
     "name": "stdout",
     "output_type": "stream",
     "text": [
      "Optimal policy:\n",
      "L/D/R   U     U     U  \n",
      "  L     -    L/R    -  \n",
      "  U     D     L     -  \n",
      "  -     R     D     !  \n"
     ]
    }
   ],
   "source": [
    "optimalPolicy = [\"L/D/R\",\"  U  \",\"  U  \",\"  U  \",\n",
    "                 \"  L  \",\"  -  \",\" L/R \",\"  -  \",\n",
    "                 \"  U  \",\"  D  \",\"  L  \",\"  -  \",\n",
    "                 \"  -  \",\"  R  \",\"  D  \",\"  !  \"]\n",
    "    \n",
    "print(\"Optimal policy:\")\n",
    "idxs = [0,4,8,12]\n",
    "for idx in idxs:\n",
    "    print(optimalPolicy[idx+0], optimalPolicy[idx+1], \n",
    "          optimalPolicy[idx+2], optimalPolicy[idx+3])"
   ]
  },
  {
   "cell_type": "code",
   "execution_count": 7,
   "metadata": {},
   "outputs": [],
   "source": [
    "def action_epsilon_greedy(q, s, epsilon=0.05):\n",
    "    if np.random.rand() > epsilon:\n",
    "        return np.argmax(q[s])\n",
    "    return np.random.randint(4)\n",
    "\n",
    "def get_action_epsilon_greedy(epsilon):\n",
    "    return lambda q,s: action_epsilon_greedy(q, s, epsilon=epsilon)"
   ]
  },
  {
   "cell_type": "code",
   "execution_count": 8,
   "metadata": {},
   "outputs": [],
   "source": [
    "def greedy_policy(q, s):\n",
    "    return np.argmax(q[s])"
   ]
  },
  {
   "cell_type": "code",
   "execution_count": 9,
   "metadata": {},
   "outputs": [],
   "source": [
    "def average_performance(policy_fct, q):\n",
    "    acc_returns = 0.\n",
    "    n = 100\n",
    "    for i in range(n):\n",
    "        done = False\n",
    "        s = env.reset()\n",
    "        while not done:\n",
    "            a = policy_fct(q, s)\n",
    "            s, reward, done, info = env.step(a)\n",
    "            acc_returns += reward\n",
    "    return acc_returns/n"
   ]
  },
  {
   "cell_type": "code",
   "execution_count": 10,
   "metadata": {},
   "outputs": [],
   "source": [
    "nb_episodes = 80000\n",
    "STEPS = 2000\n",
    "epsilon_param = [[0.2, 0.001, int(nb_episodes/2)]]"
   ]
  },
  {
   "cell_type": "code",
   "execution_count": 11,
   "metadata": {},
   "outputs": [],
   "source": [
    "# SARSA: On-policy TD control algorithm\n",
    "def sarsa(alpha = 0.02, \n",
    "          gamma = 1., \n",
    "          epsilon_start = 0.1,\n",
    "          epsilon_end = 0.001,\n",
    "          epsilon_annealing_stop = int(nb_episodes/2),\n",
    "          q = None, \n",
    "          progress = None, \n",
    "          env=env):\n",
    "    \n",
    "    if q is None:\n",
    "        q = np.ones((16,4))\n",
    "        # Set q(terminal,*) equal to 0\n",
    "        q[5,:] = 0.0\n",
    "        q[7,:] = 0.0\n",
    "        q[11,:] = 0.0\n",
    "        q[12,:] = 0.0\n",
    "        q[15,:] = 0.0\n",
    "    \n",
    "    for i in range(nb_episodes):\n",
    "        \n",
    "        inew = min(i,epsilon_annealing_stop)\n",
    "        epsilon = (epsilon_start * (epsilon_annealing_stop - inew) + epsilon_end * inew) / epsilon_annealing_stop\n",
    "        \n",
    "        done = False\n",
    "        s = env.reset()\n",
    "        a = action_epsilon_greedy(q, s, epsilon=epsilon)\n",
    "        while not done:\n",
    "            new_s, reward, done, info = env.step(a)\n",
    "            new_a = action_epsilon_greedy(q, new_s, epsilon=epsilon)\n",
    "            q[s, a] = q[s, a] + alpha * (reward + gamma * q[new_s, new_a] - q[s, a])\n",
    "            s = new_s\n",
    "            a = new_a\n",
    "        \n",
    "        # only for plotting the performance, not part of the algorithm \n",
    "        if progress is not None and i%STEPS == 0:\n",
    "            progress[i//STEPS] = average_performance(get_action_epsilon_greedy(epsilon), q=q)\n",
    "    return q, progress"
   ]
  },
  {
   "cell_type": "code",
   "execution_count": 12,
   "metadata": {},
   "outputs": [],
   "source": [
    "sarsa_performance = np.ndarray(nb_episodes//STEPS)\n",
    "q, sarsa_performance = sarsa(alpha = 0.02, gamma = 1, progress=sarsa_performance, \n",
    "                             epsilon_start=epsilon_param[0][0], epsilon_end=epsilon_param[0][1], \n",
    "                             epsilon_annealing_stop = epsilon_param[0][2])"
   ]
  },
  {
   "cell_type": "code",
   "execution_count": 13,
   "metadata": {},
   "outputs": [
    {
     "data": {
      "text/plain": [
       "Text(0, 0.5, 'Average reward of an epoch')"
      ]
     },
     "execution_count": 13,
     "metadata": {},
     "output_type": "execute_result"
    },
    {
     "data": {
      "image/png": "[encoded data removed]",
      "text/plain": [
       "<Figure size 432x288 with 1 Axes>"
      ]
     },
     "metadata": {
      "needs_background": "light"
     },
     "output_type": "display_data"
    }
   ],
   "source": [
    "plt.plot(STEPS*np.arange(nb_episodes//STEPS), sarsa_performance)\n",
    "plt.xlabel(\"Epochs\")\n",
    "plt.title(\"Learning progress for SARSA\")\n",
    "plt.ylabel(\"Average reward of an epoch\")"
   ]
  },
  {
   "cell_type": "code",
   "execution_count": 14,
   "metadata": {},
   "outputs": [
    {
     "name": "stdout",
     "output_type": "stream",
     "text": [
      "Greedy policy SARSA performance = 0.75\n"
     ]
    }
   ],
   "source": [
    "greedyPolicyAvgPerf = average_performance(greedy_policy, q=q)\n",
    "print(\"Greedy policy SARSA performance =\", greedyPolicyAvgPerf) "
   ]
  },
  {
   "cell_type": "code",
   "execution_count": 15,
   "metadata": {},
   "outputs": [
    {
     "name": "stdout",
     "output_type": "stream",
     "text": [
      "(A,S) Value function = (16, 4)\n",
      "First row\n",
      "[[0.829 0.781 0.785 0.785]\n",
      " [0.416 0.394 0.347 0.816]\n",
      " [0.522 0.521 0.511 0.813]\n",
      " [0.376 0.327 0.378 0.811]]\n",
      "Second row\n",
      "[[0.83  0.552 0.568 0.549]\n",
      " [0.    0.    0.    0.   ]\n",
      " [0.32  0.195 0.535 0.142]\n",
      " [0.    0.    0.    0.   ]]\n",
      "Third row\n",
      "[[0.55  0.59  0.546 0.831]\n",
      " [0.557 0.83  0.441 0.506]\n",
      " [0.776 0.56  0.397 0.342]\n",
      " [0.    0.    0.    0.   ]]\n",
      "Fourth row\n",
      "[[0.    0.    0.    0.   ]\n",
      " [0.528 0.619 0.886 0.506]\n",
      " [0.814 0.943 0.877 0.844]\n",
      " [0.    0.    0.    0.   ]]\n"
     ]
    }
   ],
   "source": [
    "q = np.round(q,3)\n",
    "print(\"(A,S) Value function =\", q.shape)\n",
    "print(\"First row\")\n",
    "print(q[0:4,:])\n",
    "print(\"Second row\")\n",
    "print(q[4:8,:])\n",
    "print(\"Third row\")\n",
    "print(q[8:12,:])\n",
    "print(\"Fourth row\")\n",
    "print(q[12:16,:])"
   ]
  },
  {
   "cell_type": "code",
   "execution_count": 16,
   "metadata": {},
   "outputs": [
    {
     "name": "stdout",
     "output_type": "stream",
     "text": [
      "Greedy policy found:\n",
      "  L     U     U     U  \n",
      "  L     -     R     -  \n",
      "  U     D     L     -  \n",
      "  -     R     D     !  \n",
      " \n",
      "Optimal policy:\n",
      "L/D/R   U     U     U  \n",
      "  L     -    L/R    -  \n",
      "  U     D     L     -  \n",
      "  -     R     D     !  \n"
     ]
    }
   ],
   "source": [
    "policyFound = [actionsDict[np.argmax(q[0,:])],actionsDict[np.argmax(q[1,:])],actionsDict[np.argmax(q[2,:])],actionsDict[np.argmax(q[3,:])],\n",
    "               actionsDict[np.argmax(q[4,:])],\"  -  \",actionsDict[np.argmax(q[6,:])],\"  -  \",\n",
    "               actionsDict[np.argmax(q[8,:])],actionsDict[np.argmax(q[9,:])],actionsDict[np.argmax(q[10,:])],\"  -  \",\n",
    "               \"  -  \",actionsDict[np.argmax(q[13,:])],actionsDict[np.argmax(q[14,:])],\"  !  \"]\n",
    "print(\"Greedy policy found:\")\n",
    "idxs = [0,4,8,12]\n",
    "for idx in idxs:\n",
    "    print(policyFound[idx+0], policyFound[idx+1], \n",
    "          policyFound[idx+2], policyFound[idx+3])\n",
    "\n",
    "print(\" \")\n",
    "\n",
    "print(\"Optimal policy:\")\n",
    "idxs = [0,4,8,12]\n",
    "for idx in idxs:\n",
    "    print(optimalPolicy[idx+0], optimalPolicy[idx+1], \n",
    "          optimalPolicy[idx+2], optimalPolicy[idx+3])"
   ]
  },
  {
   "cell_type": "code",
   "execution_count": null,
   "metadata": {},
   "outputs": [],
   "source": []
  }
 ],
 "metadata": {
  "kernelspec": {
   "display_name": "Python 3",
   "language": "python",
   "name": "python3"
  },
  "language_info": {
   "codemirror_mode": {
    "name": "ipython",
    "version": 3
   },
   "file_extension": ".py",
   "mimetype": "text/x-python",
   "name": "python",
   "nbconvert_exporter": "python",
   "pygments_lexer": "ipython3",
   "version": "3.7.4"
  }
 },
 "nbformat": 4,
 "nbformat_minor": 4
}
