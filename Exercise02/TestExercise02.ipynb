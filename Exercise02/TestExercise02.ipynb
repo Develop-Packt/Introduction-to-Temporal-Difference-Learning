{
 "cells": [
  {
   "cell_type": "code",
   "execution_count": 1,
   "metadata": {},
   "outputs": [],
   "source": [
    "import unittest\n",
    "import import_ipynb\n",
    "import numpy as np\n",
    "\n",
    "class TestExercise07_02(unittest.TestCase):\n",
    "    def setUp(self):\n",
    "        import Exercise07_02\n",
    "        self.exercises = Exercise07_02\n",
    "        \n",
    "    def test_optimal_policy(self):       \n",
    "        # Policy tile 0\n",
    "        policyFound = np.argmax(self.exercises.q[0,:])\n",
    "        self.assertEqual(policyFound != 3, True)\n",
    "        # Policy tile 1\n",
    "        policyFound = np.argmax(self.exercises.q[1,:])\n",
    "        self.assertEqual(policyFound == 3, True)\n",
    "        # Policy tile 2\n",
    "        policyFound = np.argmax(self.exercises.q[2,:])\n",
    "        self.assertEqual(policyFound == 3, True)\n",
    "        # Policy tile 3\n",
    "        policyFound = np.argmax(self.exercises.q[3,:])\n",
    "        self.assertEqual(policyFound == 3, True)\n",
    "        \n",
    "        # Policy tile 4\n",
    "        policyFound = np.argmax(self.exercises.q[4,:])\n",
    "        self.assertEqual(policyFound == 0, True)\n",
    "        # Policy tile 6\n",
    "        policyFound = np.argmax(self.exercises.q[6,:])\n",
    "        self.assertEqual((policyFound == 0) or (policyFound == 2), True)\n",
    "        \n",
    "        # Policy tile 8\n",
    "        policyFound = np.argmax(self.exercises.q[8,:])\n",
    "        self.assertEqual(policyFound == 3, True)\n",
    "        # Policy tile 9\n",
    "        policyFound = np.argmax(self.exercises.q[9,:])\n",
    "        self.assertEqual(policyFound == 1, True)\n",
    "        # Policy tile 10\n",
    "        policyFound = np.argmax(self.exercises.q[10,:])\n",
    "        self.assertEqual(policyFound == 0, True)\n",
    "\n",
    "        \n",
    "        # Policy tile 13\n",
    "        policyFound = np.argmax(self.exercises.q[13,:])\n",
    "        self.assertEqual(policyFound == 2, True)\n",
    "        # Policy tile 14\n",
    "        policyFound = np.argmax(self.exercises.q[14,:])\n",
    "        self.assertEqual(policyFound == 1, True)"
   ]
  },
  {
   "cell_type": "code",
   "execution_count": 2,
   "metadata": {},
   "outputs": [
    {
     "name": "stderr",
     "output_type": "stream",
     "text": [
      "test_optimal_policy (__main__.TestExercise07_02) ... "
     ]
    },
    {
     "name": "stdout",
     "output_type": "stream",
     "text": [
      "importing Jupyter notebook from Exercise07_02.ipynb\n",
      "Action space =  Discrete(4)\n",
      "Observation space =  Discrete(16)\n",
      "\n",
      "\u001b[41mS\u001b[0mFFF\n",
      "FHFH\n",
      "FFFH\n",
      "HFFG\n",
      "Optimal policy:\n",
      "L/D/R   U     U     U  \n",
      "  L     -    L/R    -  \n",
      "  U     D     L     -  \n",
      "  -     R     D     !  \n",
      "Greedy policy SARSA performance = 0.82\n",
      "(A,S) Value function = (16, 4)\n",
      "First row\n",
      "[[0.822 0.799 0.801 0.802]\n",
      " [0.388 0.434 0.41  0.808]\n",
      " [0.597 0.546 0.583 0.803]\n",
      " [0.433 0.433 0.374 0.802]]\n",
      "Second row\n",
      "[[0.823 0.534 0.616 0.569]\n",
      " [0.    0.    0.    0.   ]\n",
      " [0.53  0.239 0.394 0.142]\n",
      " [0.    0.    0.    0.   ]]\n",
      "Third row\n",
      "[[0.467 0.537 0.566 0.825]\n",
      " [0.593 0.829 0.516 0.486]\n",
      " [0.767 0.548 0.451 0.404]\n",
      " [0.    0.    0.    0.   ]]\n",
      "Fourth row\n",
      "[[0.    0.    0.    0.   ]\n",
      " [0.573 0.661 0.883 0.583]\n",
      " [0.83  0.946 0.87  0.847]\n",
      " [0.    0.    0.    0.   ]]\n",
      "Greedy policy found:\n",
      "  L     U     U     U  \n",
      "  L     -     L     -  \n",
      "  U     D     L     -  \n",
      "  -     R     D     !  \n",
      " \n",
      "Optimal policy:\n",
      "L/D/R   U     U     U  \n",
      "  L     -    L/R    -  \n",
      "  U     D     L     -  \n",
      "  -     R     D     !  \n"
     ]
    },
    {
     "name": "stderr",
     "output_type": "stream",
     "text": [
      "ok\n",
      "\n",
      "----------------------------------------------------------------------\n",
      "Ran 1 test in 47.599s\n",
      "\n",
      "OK\n"
     ]
    },
    {
     "data": {
      "text/plain": [
       "<unittest.runner.TextTestResult run=1 errors=0 failures=0>"
      ]
     },
     "execution_count": 2,
     "metadata": {},
     "output_type": "execute_result"
    },
    {
     "data": {
      "image/png": "[encoded data removed]",
      "text/plain": [
       "<Figure size 432x288 with 1 Axes>"
      ]
     },
     "metadata": {
      "needs_background": "light"
     },
     "output_type": "display_data"
    }
   ],
   "source": [
    "suite = unittest.TestLoader().loadTestsFromTestCase(TestExercise07_02)\n",
    "unittest.TextTestRunner(verbosity=2).run(suite)"
   ]
  },
  {
   "cell_type": "code",
   "execution_count": null,
   "metadata": {},
   "outputs": [],
   "source": []
  }
 ],
 "metadata": {
  "kernelspec": {
   "display_name": "Python 3",
   "language": "python",
   "name": "python3"
  },
  "language_info": {
   "codemirror_mode": {
    "name": "ipython",
    "version": 3
   },
   "file_extension": ".py",
   "mimetype": "text/x-python",
   "name": "python",
   "nbconvert_exporter": "python",
   "pygments_lexer": "ipython3",
   "version": "3.7.4"
  }
 },
 "nbformat": 4,
 "nbformat_minor": 4
}
