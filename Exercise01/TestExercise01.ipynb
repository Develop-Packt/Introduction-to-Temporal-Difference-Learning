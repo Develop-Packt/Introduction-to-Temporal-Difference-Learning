{
 "cells": [
  {
   "cell_type": "code",
   "execution_count": 1,
   "metadata": {},
   "outputs": [],
   "source": [
    "import unittest\n",
    "import import_ipynb\n",
    "import numpy as np\n",
    "\n",
    "class TestExercise07_01(unittest.TestCase):\n",
    "    def setUp(self):\n",
    "        import Exercise07_01\n",
    "        self.exercises = Exercise07_01\n",
    "        \n",
    "    def test_performance(self):\n",
    "        self.assertEqual(self.exercises.greedyPolicyAvgPerf == 1.0, True)\n",
    "        \n",
    "    def test_optimal_policy(self):    \n",
    "              \n",
    "        # Policy tile 0\n",
    "        policyFound = np.argmax(self.exercises.q[0,:])\n",
    "        self.assertEqual((policyFound == 2) or (policyFound == 1), True)\n",
    "        # Policy tile 1\n",
    "        policyFound = np.argmax(self.exercises.q[1,:])\n",
    "        self.assertEqual(policyFound == 2, True)\n",
    "        # Policy tile 2\n",
    "        policyFound = np.argmax(self.exercises.q[2,:])\n",
    "        self.assertEqual(policyFound == 1, True)\n",
    "        # Policy tile 3\n",
    "        policyFound = np.argmax(self.exercises.q[3,:])\n",
    "        self.assertEqual(policyFound == 0, True)\n",
    "        \n",
    "        # Policy tile 4\n",
    "        policyFound = np.argmax(self.exercises.q[4,:])\n",
    "        self.assertEqual(policyFound == 1, True)\n",
    "        # Policy tile 6\n",
    "        policyFound = np.argmax(self.exercises.q[6,:])\n",
    "        self.assertEqual(policyFound == 1, True)\n",
    "        \n",
    "        # Policy tile 8\n",
    "        policyFound = np.argmax(self.exercises.q[8,:])\n",
    "        self.assertEqual(policyFound == 2, True)\n",
    "        # Policy tile 9\n",
    "        policyFound = np.argmax(self.exercises.q[9,:])\n",
    "        self.assertEqual((policyFound == 2) or (policyFound == 1), True)\n",
    "        # Policy tile 10\n",
    "        policyFound = np.argmax(self.exercises.q[10,:])\n",
    "        self.assertEqual(policyFound == 1, True)\n",
    "\n",
    "        \n",
    "        # Policy tile 13\n",
    "        policyFound = np.argmax(self.exercises.q[13,:])\n",
    "        self.assertEqual(policyFound == 2, True)\n",
    "        # Policy tile 14\n",
    "        policyFound = np.argmax(self.exercises.q[14,:])\n",
    "        self.assertEqual(policyFound == 2, True)"
   ]
  },
  {
   "cell_type": "code",
   "execution_count": 2,
   "metadata": {},
   "outputs": [
    {
     "name": "stderr",
     "output_type": "stream",
     "text": [
      "test_optimal_policy (__main__.TestExercise07_01) ... "
     ]
    },
    {
     "name": "stdout",
     "output_type": "stream",
     "text": [
      "importing Jupyter notebook from Exercise07_01.ipynb\n",
      "Action space =  Discrete(4)\n",
      "Observation space =  Discrete(16)\n",
      "\n",
      "\u001b[41mS\u001b[0mFFF\n",
      "FHFH\n",
      "FFFH\n",
      "HFFG\n",
      "Optimal policy:\n",
      "R/D  R   D   L \n",
      " D   -   D   - \n",
      " R  R/D  D   - \n",
      " -   R   R   ! \n"
     ]
    },
    {
     "name": "stderr",
     "output_type": "stream",
     "text": [
      "ok\n",
      "test_performance (__main__.TestExercise07_01) ... "
     ]
    },
    {
     "name": "stdout",
     "output_type": "stream",
     "text": [
      "Greedy policy SARSA performance = 1.0\n",
      "(A,S) Value function = (16, 4)\n",
      "First row\n",
      "[[0.509 0.59  0.515 0.505]\n",
      " [0.43  0.    0.601 0.48 ]\n",
      " [0.494 0.694 0.482 0.554]\n",
      " [0.557 0.243 0.516 0.533]]\n",
      "Second row\n",
      "[[0.556 0.656 0.    0.502]\n",
      " [0.    0.    0.    0.   ]\n",
      " [0.001 0.804 0.001 0.562]\n",
      " [0.    0.    0.    0.   ]]\n",
      "Third row\n",
      "[[0.631 0.    0.729 0.559]\n",
      " [0.628 0.767 0.81  0.   ]\n",
      " [0.703 0.9   0.    0.698]\n",
      " [0.    0.    0.    0.   ]]\n",
      "Fourth row\n",
      "[[0.    0.    0.    0.   ]\n",
      " [0.    0.757 0.897 0.701]\n",
      " [0.792 0.898 1.    0.8  ]\n",
      " [0.    0.    0.    0.   ]]\n",
      "Greedy policy found:\n",
      " D   R   D   L \n",
      " D   -   D   - \n",
      " R   R   D   - \n",
      " -   R   R   ! \n",
      " \n",
      "Optimal policy:\n",
      "R/D  R   D   L \n",
      " D   -   D   - \n",
      " R  R/D  D   - \n",
      " -   R   R   ! \n"
     ]
    },
    {
     "name": "stderr",
     "output_type": "stream",
     "text": [
      "ok\n",
      "\n",
      "----------------------------------------------------------------------\n",
      "Ran 2 tests in 10.029s\n",
      "\n",
      "OK\n"
     ]
    },
    {
     "data": {
      "text/plain": [
       "<unittest.runner.TextTestResult run=2 errors=0 failures=0>"
      ]
     },
     "execution_count": 2,
     "metadata": {},
     "output_type": "execute_result"
    },
    {
     "data": {
      "image/png": "[encoded data removed]",
      "text/plain": [
       "<Figure size 432x288 with 1 Axes>"
      ]
     },
     "metadata": {
      "needs_background": "light"
     },
     "output_type": "display_data"
    }
   ],
   "source": [
    "suite = unittest.TestLoader().loadTestsFromTestCase(TestExercise07_01)\n",
    "unittest.TextTestRunner(verbosity=2).run(suite)"
   ]
  },
  {
   "cell_type": "code",
   "execution_count": null,
   "metadata": {},
   "outputs": [],
   "source": []
  }
 ],
 "metadata": {
  "kernelspec": {
   "display_name": "Python 3",
   "language": "python",
   "name": "python3"
  },
  "language_info": {
   "codemirror_mode": {
    "name": "ipython",
    "version": 3
   },
   "file_extension": ".py",
   "mimetype": "text/x-python",
   "name": "python",
   "nbconvert_exporter": "python",
   "pygments_lexer": "ipython3",
   "version": "3.7.4"
  }
 },
 "nbformat": 4,
 "nbformat_minor": 4
}
