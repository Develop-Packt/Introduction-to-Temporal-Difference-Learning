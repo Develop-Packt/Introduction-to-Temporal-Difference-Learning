{
 "cells": [
  {
   "cell_type": "code",
   "execution_count": 1,
   "metadata": {},
   "outputs": [],
   "source": [
    "import unittest\n",
    "import import_ipynb\n",
    "import numpy as np\n",
    "\n",
    "class TestExercise07_05(unittest.TestCase):\n",
    "    def setUp(self):\n",
    "        import Exercise07_05\n",
    "        self.exercises = Exercise07_05\n",
    "                \n",
    "    def test_optimal_policy(self):       \n",
    "        # Policy tile 0\n",
    "        policyFound = np.argmax(self.exercises.q[0,:])\n",
    "        self.assertEqual(policyFound != 3, True)\n",
    "        # Policy tile 1\n",
    "        policyFound = np.argmax(self.exercises.q[1,:])\n",
    "        self.assertEqual(policyFound == 3, True)\n",
    "        # Policy tile 2\n",
    "        policyFound = np.argmax(self.exercises.q[2,:])\n",
    "        self.assertEqual(policyFound == 3, True)\n",
    "        # Policy tile 3\n",
    "        policyFound = np.argmax(self.exercises.q[3,:])\n",
    "        self.assertEqual(policyFound == 3, True)\n",
    "        \n",
    "        # Policy tile 4\n",
    "        policyFound = np.argmax(self.exercises.q[4,:])\n",
    "        self.assertEqual(policyFound == 0, True)\n",
    "        # Policy tile 6\n",
    "        policyFound = np.argmax(self.exercises.q[6,:])\n",
    "        self.assertEqual((policyFound == 0) or (policyFound == 2), True)\n",
    "        \n",
    "        # Policy tile 8\n",
    "        policyFound = np.argmax(self.exercises.q[8,:])\n",
    "        self.assertEqual(policyFound == 3, True)\n",
    "        # Policy tile 9\n",
    "        policyFound = np.argmax(self.exercises.q[9,:])\n",
    "        self.assertEqual(policyFound == 1, True)\n",
    "        # Policy tile 10\n",
    "        policyFound = np.argmax(self.exercises.q[10,:])\n",
    "        self.assertEqual(policyFound == 0, True)\n",
    "\n",
    "        \n",
    "        # Policy tile 13\n",
    "        policyFound = np.argmax(self.exercises.q[13,:])\n",
    "        self.assertEqual(policyFound == 2, True)\n",
    "        # Policy tile 14\n",
    "        policyFound = np.argmax(self.exercises.q[14,:])\n",
    "        self.assertEqual(policyFound == 1, True)"
   ]
  },
  {
   "cell_type": "code",
   "execution_count": 2,
   "metadata": {},
   "outputs": [
    {
     "name": "stderr",
     "output_type": "stream",
     "text": [
      "test_optimal_policy (__main__.TestExercise07_05) ... "
     ]
    },
    {
     "name": "stdout",
     "output_type": "stream",
     "text": [
      "importing Jupyter notebook from Exercise07_05.ipynb\n",
      "Action space =  Discrete(4)\n",
      "Observation space =  Discrete(16)\n",
      "\n",
      "\u001b[41mS\u001b[0mFFF\n",
      "FHFH\n",
      "FFFH\n",
      "HFFG\n",
      "Optimal policy:\n",
      "L/D/R   U     U     U  \n",
      "  L     -    L/R    -  \n",
      "  U     D     L     -  \n",
      "  -     R     D     !  \n",
      "Greedy policy SARSA performance = 0.556\n",
      "(A,S) Value function = (16, 4)\n",
      "First row\n",
      "[[0.778 0.781 0.79  0.783]\n",
      " [0.458 0.429 0.406 0.791]\n",
      " [0.606 0.578 0.609 0.792]\n",
      " [0.505 0.433 0.457 0.792]]\n",
      "Second row\n",
      "[[0.787 0.499 0.56  0.503]\n",
      " [0.    0.    0.    0.   ]\n",
      " [0.361 0.196 0.452 0.151]\n",
      " [0.    0.    0.    0.   ]]\n",
      "Third row\n",
      "[[0.502 0.511 0.554 0.786]\n",
      " [0.58  0.783 0.535 0.545]\n",
      " [0.664 0.557 0.487 0.41 ]\n",
      " [0.    0.    0.    0.   ]]\n",
      "Fourth row\n",
      "[[0.    0.    0.    0.   ]\n",
      " [0.529 0.614 0.863 0.496]\n",
      " [0.799 0.936 0.857 0.829]\n",
      " [0.    0.    0.    0.   ]]\n",
      "Greedy policy found:\n",
      "  R     U     U     U  \n",
      "  L     -     R     -  \n",
      "  U     D     L     -  \n",
      "  -     R     D     !  \n",
      " \n",
      "Optimal policy:\n",
      "L/D/R   U     U     U  \n",
      "  L     -    L/R    -  \n",
      "  U     D     L     -  \n",
      "  -     R     D     !  \n"
     ]
    },
    {
     "name": "stderr",
     "output_type": "stream",
     "text": [
      "ok\n",
      "\n",
      "----------------------------------------------------------------------\n",
      "Ran 1 test in 72.872s\n",
      "\n",
      "OK\n"
     ]
    },
    {
     "data": {
      "text/plain": [
       "<unittest.runner.TextTestResult run=1 errors=0 failures=0>"
      ]
     },
     "execution_count": 2,
     "metadata": {},
     "output_type": "execute_result"
    },
    {
     "data": {
      "image/png": "[encoded data removed]",
      "text/plain": [
       "<Figure size 432x288 with 1 Axes>"
      ]
     },
     "metadata": {
      "needs_background": "light"
     },
     "output_type": "display_data"
    }
   ],
   "source": [
    "suite = unittest.TestLoader().loadTestsFromTestCase(TestExercise07_05)\n",
    "unittest.TextTestRunner(verbosity=2).run(suite)"
   ]
  },
  {
   "cell_type": "code",
   "execution_count": null,
   "metadata": {},
   "outputs": [],
   "source": []
  }
 ],
 "metadata": {
  "kernelspec": {
   "display_name": "Python 3",
   "language": "python",
   "name": "python3"
  },
  "language_info": {
   "codemirror_mode": {
    "name": "ipython",
    "version": 3
   },
   "file_extension": ".py",
   "mimetype": "text/x-python",
   "name": "python",
   "nbconvert_exporter": "python",
   "pygments_lexer": "ipython3",
   "version": "3.7.4"
  }
 },
 "nbformat": 4,
 "nbformat_minor": 4
}
