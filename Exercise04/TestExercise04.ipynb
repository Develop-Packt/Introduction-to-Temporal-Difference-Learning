{
 "cells": [
  {
   "cell_type": "code",
   "execution_count": 1,
   "metadata": {},
   "outputs": [],
   "source": [
    "import unittest\n",
    "import import_ipynb\n",
    "import numpy as np\n",
    "\n",
    "class TestExercise07_04(unittest.TestCase):\n",
    "    def setUp(self):\n",
    "        import Exercise07_04\n",
    "        self.exercises = Exercise07_04\n",
    "        \n",
    "    def test_performance(self):\n",
    "        self.assertEqual(self.exercises.greedyPolicyAvgPerf == 1.0, True)\n",
    "\n",
    "    def test_optimal_policy(self):    \n",
    "              \n",
    "        # Policy tile 0\n",
    "        policyFound = np.argmax(self.exercises.q[0,:])\n",
    "        self.assertEqual((policyFound == 2) or (policyFound == 1), True)\n",
    "        # Policy tile 1\n",
    "        policyFound = np.argmax(self.exercises.q[1,:])\n",
    "        self.assertEqual(policyFound == 2, True)\n",
    "        # Policy tile 2\n",
    "        policyFound = np.argmax(self.exercises.q[2,:])\n",
    "        self.assertEqual(policyFound == 1, True)\n",
    "        # Policy tile 3\n",
    "        policyFound = np.argmax(self.exercises.q[3,:])\n",
    "        self.assertEqual(policyFound == 0, True)\n",
    "        \n",
    "        # Policy tile 4\n",
    "        policyFound = np.argmax(self.exercises.q[4,:])\n",
    "        self.assertEqual(policyFound == 1, True)\n",
    "        # Policy tile 6\n",
    "        policyFound = np.argmax(self.exercises.q[6,:])\n",
    "        self.assertEqual(policyFound == 1, True)\n",
    "        \n",
    "        # Policy tile 8\n",
    "        policyFound = np.argmax(self.exercises.q[8,:])\n",
    "        self.assertEqual(policyFound == 2, True)\n",
    "        # Policy tile 9\n",
    "        policyFound = np.argmax(self.exercises.q[9,:])\n",
    "        self.assertEqual((policyFound == 2) or (policyFound == 1), True)\n",
    "        # Policy tile 10\n",
    "        policyFound = np.argmax(self.exercises.q[10,:])\n",
    "        self.assertEqual(policyFound == 1, True)\n",
    "\n",
    "        \n",
    "        # Policy tile 13\n",
    "        policyFound = np.argmax(self.exercises.q[13,:])\n",
    "        self.assertEqual(policyFound == 2, True)\n",
    "        # Policy tile 14\n",
    "        policyFound = np.argmax(self.exercises.q[14,:])\n",
    "        self.assertEqual(policyFound == 2, True)"
   ]
  },
  {
   "cell_type": "code",
   "execution_count": 2,
   "metadata": {},
   "outputs": [
    {
     "name": "stderr",
     "output_type": "stream",
     "text": [
      "test_optimal_policy (__main__.TestExercise07_04) ... "
     ]
    },
    {
     "name": "stdout",
     "output_type": "stream",
     "text": [
      "importing Jupyter notebook from Exercise07_04.ipynb\n",
      "Action space =  Discrete(4)\n",
      "Observation space =  Discrete(16)\n",
      "\n",
      "\u001b[41mS\u001b[0mFFF\n",
      "FHFH\n",
      "FFFH\n",
      "HFFG\n",
      "Optimal policy:\n",
      "R/D  R   D   L \n",
      " D   -   D   - \n",
      " R  R/D  D   - \n",
      " -   R   R   ! \n"
     ]
    },
    {
     "name": "stderr",
     "output_type": "stream",
     "text": [
      "ok\n",
      "test_performance (__main__.TestExercise07_04) ... "
     ]
    },
    {
     "name": "stdout",
     "output_type": "stream",
     "text": [
      "Greedy policy SARSA performance = 1.0\n",
      "(A,S) Value function = (16, 4)\n",
      "First row\n",
      "[[0.504 0.538 0.59  0.504]\n",
      " [0.506 0.    0.655 0.558]\n",
      " [0.559 0.728 0.544 0.632]\n",
      " [0.629 0.25  0.503 0.494]]\n",
      "Second row\n",
      "[[0.512 0.627 0.    0.463]\n",
      " [0.    0.    0.    0.   ]\n",
      " [0.    0.809 0.    0.616]\n",
      " [0.    0.    0.    0.   ]]\n",
      "Third row\n",
      "[[0.6   0.    0.716 0.527]\n",
      " [0.589 0.647 0.805 0.   ]\n",
      " [0.678 0.9   0.    0.708]\n",
      " [0.    0.    0.    0.   ]]\n",
      "Fourth row\n",
      "[[0.    0.    0.    0.   ]\n",
      " [0.004 0.761 0.89  0.68 ]\n",
      " [0.796 0.899 1.    0.757]\n",
      " [0.    0.    0.    0.   ]]\n",
      "Greedy policy found:\n",
      " R   R   D   L \n",
      " D   -   D   - \n",
      " R   R   D   - \n",
      " -   R   R   ! \n",
      " \n",
      "Optimal policy:\n",
      "R/D  R   D   L \n",
      " D   -   D   - \n",
      " R  R/D  D   - \n",
      " -   R   R   ! \n"
     ]
    },
    {
     "name": "stderr",
     "output_type": "stream",
     "text": [
      "ok\n",
      "\n",
      "----------------------------------------------------------------------\n",
      "Ran 2 tests in 6.752s\n",
      "\n",
      "OK\n"
     ]
    },
    {
     "data": {
      "text/plain": [
       "<unittest.runner.TextTestResult run=2 errors=0 failures=0>"
      ]
     },
     "execution_count": 2,
     "metadata": {},
     "output_type": "execute_result"
    },
    {
     "data": {
      "image/png": "[encoded data removed]",
      "text/plain": [
       "<Figure size 432x288 with 1 Axes>"
      ]
     },
     "metadata": {
      "needs_background": "light"
     },
     "output_type": "display_data"
    }
   ],
   "source": [
    "suite = unittest.TestLoader().loadTestsFromTestCase(TestExercise07_04)\n",
    "unittest.TextTestRunner(verbosity=2).run(suite)"
   ]
  },
  {
   "cell_type": "code",
   "execution_count": null,
   "metadata": {},
   "outputs": [],
   "source": []
  }
 ],
 "metadata": {
  "kernelspec": {
   "display_name": "Python 3",
   "language": "python",
   "name": "python3"
  },
  "language_info": {
   "codemirror_mode": {
    "name": "ipython",
    "version": 3
   },
   "file_extension": ".py",
   "mimetype": "text/x-python",
   "name": "python",
   "nbconvert_exporter": "python",
   "pygments_lexer": "ipython3",
   "version": "3.7.4"
  }
 },
 "nbformat": 4,
 "nbformat_minor": 4
}
