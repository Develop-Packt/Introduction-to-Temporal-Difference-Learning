{
 "cells": [
  {
   "cell_type": "code",
   "execution_count": 1,
   "metadata": {},
   "outputs": [],
   "source": [
    "import numpy as np\n",
    "from numpy.random import random, choice\n",
    "import matplotlib.pyplot as plt\n",
    "%matplotlib inline\n",
    "\n",
    "import gym"
   ]
  },
  {
   "cell_type": "code",
   "execution_count": 2,
   "metadata": {},
   "outputs": [],
   "source": [
    "env = gym.make('FrozenLake-v0', is_slippery=False)"
   ]
  },
  {
   "cell_type": "code",
   "execution_count": 3,
   "metadata": {},
   "outputs": [
    {
     "name": "stdout",
     "output_type": "stream",
     "text": [
      "Action space =  Discrete(4)\n",
      "Observation space =  Discrete(16)\n"
     ]
    }
   ],
   "source": [
    "print(\"Action space = \", env.action_space)\n",
    "print(\"Observation space = \", env.observation_space)"
   ]
  },
  {
   "cell_type": "code",
   "execution_count": 4,
   "metadata": {},
   "outputs": [],
   "source": [
    "actionsDict = {}\n",
    "actionsDict[0] = \" L \"\n",
    "actionsDict[1] = \" D \"\n",
    "actionsDict[2] = \" R \"\n",
    "actionsDict[3] = \" U \"\n",
    "\n",
    "actionsDictInv = {}\n",
    "actionsDictInv[\"L\"] = 0\n",
    "actionsDictInv[\"D\"] = 1\n",
    "actionsDictInv[\"R\"] = 2\n",
    "actionsDictInv[\"U\"] = 3"
   ]
  },
  {
   "cell_type": "code",
   "execution_count": 5,
   "metadata": {},
   "outputs": [
    {
     "name": "stdout",
     "output_type": "stream",
     "text": [
      "\n",
      "\u001b[41mS\u001b[0mFFF\n",
      "FHFH\n",
      "FFFH\n",
      "HFFG\n"
     ]
    }
   ],
   "source": [
    "env.reset()\n",
    "env.render()"
   ]
  },
  {
   "cell_type": "code",
   "execution_count": 6,
   "metadata": {},
   "outputs": [
    {
     "name": "stdout",
     "output_type": "stream",
     "text": [
      "Optimal policy:\n",
      "R/D  R   D   L \n",
      " D   -   D   - \n",
      " R  R/D  D   - \n",
      " -   R   R   ! \n"
     ]
    }
   ],
   "source": [
    "optimalPolicy = [\"R/D\",\" R \",\" D \",\" L \",\n",
    "                 \" D \",\" - \",\" D \",\" - \",\n",
    "                 \" R \",\"R/D\",\" D \",\" - \",\n",
    "                 \" - \",\" R \",\" R \",\" ! \",]\n",
    "    \n",
    "print(\"Optimal policy:\")\n",
    "idxs = [0,4,8,12]\n",
    "for idx in idxs:\n",
    "    print(optimalPolicy[idx+0], optimalPolicy[idx+1], \n",
    "          optimalPolicy[idx+2], optimalPolicy[idx+3])"
   ]
  },
  {
   "cell_type": "code",
   "execution_count": 7,
   "metadata": {},
   "outputs": [],
   "source": [
    "def action_epsilon_greedy(q, s, epsilon=0.05):\n",
    "    if np.random.rand() > epsilon:\n",
    "        return np.argmax(q[s])\n",
    "    return np.random.randint(4)\n",
    "\n",
    "def get_action_epsilon_greedy(epsilon):\n",
    "    return lambda q,s: action_epsilon_greedy(q, s, epsilon=epsilon)"
   ]
  },
  {
   "cell_type": "code",
   "execution_count": 8,
   "metadata": {},
   "outputs": [],
   "source": [
    "def greedy_policy(q, s):\n",
    "    return np.argmax(q[s])"
   ]
  },
  {
   "cell_type": "code",
   "execution_count": 9,
   "metadata": {},
   "outputs": [],
   "source": [
    "def average_performance(policy_fct, q):\n",
    "    acc_returns = 0.\n",
    "    n = 500\n",
    "    for i in range(n):\n",
    "        done = False\n",
    "        s = env.reset()\n",
    "        while not done:\n",
    "            a = policy_fct(q, s)\n",
    "            s, reward, done, info = env.step(a)\n",
    "            acc_returns += reward\n",
    "    return acc_returns/n"
   ]
  },
  {
   "cell_type": "code",
   "execution_count": 10,
   "metadata": {},
   "outputs": [],
   "source": [
    "# parameters for sarsa(lambda)\n",
    "episodes = 30000\n",
    "STEPS = 500\n",
    "gamma = 0.9\n",
    "alpha = 0.05\n",
    "epsilon_start = 0.2\n",
    "epsilon_end = 0.001\n",
    "epsilon_annealing_stop = int(episodes/2)\n",
    "eligibility_decay = 0.3"
   ]
  },
  {
   "cell_type": "code",
   "execution_count": 11,
   "metadata": {},
   "outputs": [],
   "source": [
    "q = np.ones((16, 4))\n",
    "# Set q(terminal,*) equal to 0\n",
    "q[5,:] = 0.0\n",
    "q[7,:] = 0.0\n",
    "q[11,:] = 0.0\n",
    "q[12,:] = 0.0\n",
    "q[15,:] = 0.0\n",
    "performance = np.ndarray(episodes//STEPS)"
   ]
  },
  {
   "cell_type": "code",
   "execution_count": 12,
   "metadata": {},
   "outputs": [],
   "source": [
    "for episode in range(episodes):\n",
    "\n",
    "    inew = min(episode,epsilon_annealing_stop)\n",
    "    epsilon = (epsilon_start * (epsilon_annealing_stop - inew) + epsilon_end * inew) / epsilon_annealing_stop\n",
    "    \n",
    "    E = np.zeros((16, 4))\n",
    "    \n",
    "    state = env.reset()\n",
    "    action = action_epsilon_greedy(q, state, epsilon)\n",
    "\n",
    "    while True:\n",
    "\n",
    "        E = eligibility_decay * gamma * E\n",
    "        E[state, action] += 1\n",
    "        \n",
    "        new_state, reward, done, info = env.step(action)\n",
    "        \n",
    "        new_action = action_epsilon_greedy(q, new_state, epsilon)\n",
    "\n",
    "        delta = reward + gamma * q[new_state, new_action] - q[state, action]\n",
    "        q = q + alpha * delta * E \n",
    "\n",
    "        state, action = new_state, new_action\n",
    "\n",
    "        if done:\n",
    "            break\n",
    "\n",
    "    # only for plotting the performance, not part of the algorithm \n",
    "    if episode%STEPS == 0:\n",
    "        performance[episode//STEPS] = average_performance(get_action_epsilon_greedy(epsilon), q=q)"
   ]
  },
  {
   "cell_type": "code",
   "execution_count": 13,
   "metadata": {},
   "outputs": [
    {
     "data": {
      "text/plain": [
       "Text(0, 0.5, 'Average reward of an epoch')"
      ]
     },
     "execution_count": 13,
     "metadata": {},
     "output_type": "execute_result"
    },
    {
     "data": {
      "image/png": "[encoded data removed]",
      "text/plain": [
       "<Figure size 432x288 with 1 Axes>"
      ]
     },
     "metadata": {
      "needs_background": "light"
     },
     "output_type": "display_data"
    }
   ],
   "source": [
    "plt.plot(STEPS*np.arange(episodes//STEPS), performance)\n",
    "plt.xlabel(\"Epochs\")\n",
    "plt.title(\"Learning progress for SARSA\")\n",
    "plt.ylabel(\"Average reward of an epoch\")"
   ]
  },
  {
   "cell_type": "code",
   "execution_count": 14,
   "metadata": {},
   "outputs": [
    {
     "name": "stdout",
     "output_type": "stream",
     "text": [
      "Greedy policy SARSA performance = 1.0\n"
     ]
    }
   ],
   "source": [
    "greedyPolicyAvgPerf = average_performance(greedy_policy, q=q)\n",
    "print(\"Greedy policy SARSA performance =\", greedyPolicyAvgPerf) "
   ]
  },
  {
   "cell_type": "code",
   "execution_count": 15,
   "metadata": {},
   "outputs": [
    {
     "name": "stdout",
     "output_type": "stream",
     "text": [
      "(A,S) Value function = (16, 4)\n",
      "First row\n",
      "[[0.499 0.59  0.519 0.501]\n",
      " [0.474 0.    0.615 0.518]\n",
      " [0.529 0.699 0.528 0.589]\n",
      " [0.608 0.397 0.519 0.517]]\n",
      "Second row\n",
      "[[0.553 0.656 0.    0.489]\n",
      " [0.    0.    0.    0.   ]\n",
      " [0.    0.806 0.    0.593]\n",
      " [0.    0.    0.    0.   ]]\n",
      "Third row\n",
      "[[0.619 0.    0.729 0.563]\n",
      " [0.613 0.77  0.81  0.   ]\n",
      " [0.712 0.9   0.    0.678]\n",
      " [0.    0.    0.    0.   ]]\n",
      "Fourth row\n",
      "[[0.    0.    0.    0.   ]\n",
      " [0.003 0.8   0.9   0.683]\n",
      " [0.76  0.892 1.    0.787]\n",
      " [0.    0.    0.    0.   ]]\n"
     ]
    }
   ],
   "source": [
    "q = np.round(q,3)\n",
    "print(\"(A,S) Value function =\", q.shape)\n",
    "print(\"First row\")\n",
    "print(q[0:4,:])\n",
    "print(\"Second row\")\n",
    "print(q[4:8,:])\n",
    "print(\"Third row\")\n",
    "print(q[8:12,:])\n",
    "print(\"Fourth row\")\n",
    "print(q[12:16,:])"
   ]
  },
  {
   "cell_type": "code",
   "execution_count": 16,
   "metadata": {},
   "outputs": [
    {
     "name": "stdout",
     "output_type": "stream",
     "text": [
      "Greedy policy found:\n",
      " D   R   D   L \n",
      " D   -   D   - \n",
      " R   R   D   - \n",
      " -   R   R   ! \n",
      " \n",
      "Optimal policy:\n",
      "R/D  R   D   L \n",
      " D   -   D   - \n",
      " R  R/D  D   - \n",
      " -   R   R   ! \n"
     ]
    }
   ],
   "source": [
    "policyFound = [actionsDict[np.argmax(q[0,:])],actionsDict[np.argmax(q[1,:])],actionsDict[np.argmax(q[2,:])],actionsDict[np.argmax(q[3,:])],\n",
    "               actionsDict[np.argmax(q[4,:])],\" - \",actionsDict[np.argmax(q[6,:])],\" - \",\n",
    "               actionsDict[np.argmax(q[8,:])],actionsDict[np.argmax(q[9,:])],actionsDict[np.argmax(q[10,:])],\" - \",\n",
    "               \" - \",actionsDict[np.argmax(q[13,:])],actionsDict[np.argmax(q[14,:])],\" ! \"]\n",
    "print(\"Greedy policy found:\")\n",
    "idxs = [0,4,8,12]\n",
    "for idx in idxs:\n",
    "    print(policyFound[idx+0], policyFound[idx+1], \n",
    "          policyFound[idx+2], policyFound[idx+3])\n",
    "\n",
    "print(\" \")\n",
    "\n",
    "print(\"Optimal policy:\")\n",
    "idxs = [0,4,8,12]\n",
    "for idx in idxs:\n",
    "    print(optimalPolicy[idx+0], optimalPolicy[idx+1], \n",
    "          optimalPolicy[idx+2], optimalPolicy[idx+3])"
   ]
  }
 ],
 "metadata": {
  "kernelspec": {
   "display_name": "Python 3",
   "language": "python",
   "name": "python3"
  },
  "language_info": {
   "codemirror_mode": {
    "name": "ipython",
    "version": 3
   },
   "file_extension": ".py",
   "mimetype": "text/x-python",
   "name": "python",
   "nbconvert_exporter": "python",
   "pygments_lexer": "ipython3",
   "version": "3.7.4"
  }
 },
 "nbformat": 4,
 "nbformat_minor": 4
}
