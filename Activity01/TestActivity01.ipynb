{
 "cells": [
  {
   "cell_type": "code",
   "execution_count": 1,
   "metadata": {},
   "outputs": [],
   "source": [
    "import unittest\n",
    "import import_ipynb\n",
    "import numpy as np\n",
    "\n",
    "class TestActivity07_01(unittest.TestCase):\n",
    "    def setUp(self):\n",
    "        import Activity07_01\n",
    "        self.exercises = Activity07_01\n",
    "        \n",
    "    def test_optimal_policy(self):       \n",
    "        # Policy tile 0\n",
    "        policyFound = np.argmax(self.exercises.q[0,:])\n",
    "        self.assertEqual(policyFound != 3, True)\n",
    "        # Policy tile 1\n",
    "        policyFound = np.argmax(self.exercises.q[1,:])\n",
    "        self.assertEqual(policyFound == 3, True)\n",
    "        # Policy tile 2\n",
    "        policyFound = np.argmax(self.exercises.q[2,:])\n",
    "        self.assertEqual(policyFound == 3, True)\n",
    "        # Policy tile 3\n",
    "        policyFound = np.argmax(self.exercises.q[3,:])\n",
    "        self.assertEqual(policyFound == 3, True)\n",
    "        \n",
    "        # Policy tile 4\n",
    "        policyFound = np.argmax(self.exercises.q[4,:])\n",
    "        self.assertEqual(policyFound == 0, True)\n",
    "        # Policy tile 6\n",
    "        policyFound = np.argmax(self.exercises.q[6,:])\n",
    "        self.assertEqual((policyFound == 0) or (policyFound == 2), True)\n",
    "        \n",
    "        # Policy tile 8\n",
    "        policyFound = np.argmax(self.exercises.q[8,:])\n",
    "        self.assertEqual(policyFound == 3, True)\n",
    "        # Policy tile 9\n",
    "        policyFound = np.argmax(self.exercises.q[9,:])\n",
    "        self.assertEqual(policyFound == 1, True)\n",
    "        # Policy tile 10\n",
    "        policyFound = np.argmax(self.exercises.q[10,:])\n",
    "        self.assertEqual(policyFound == 0, True)\n",
    "\n",
    "        \n",
    "        # Policy tile 13\n",
    "        policyFound = np.argmax(self.exercises.q[13,:])\n",
    "        self.assertEqual(policyFound == 2, True)\n",
    "        # Policy tile 14\n",
    "        policyFound = np.argmax(self.exercises.q[14,:])\n",
    "        self.assertEqual(policyFound == 1, True)"
   ]
  },
  {
   "cell_type": "code",
   "execution_count": 2,
   "metadata": {},
   "outputs": [
    {
     "name": "stderr",
     "output_type": "stream",
     "text": [
      "test_optimal_policy (__main__.TestActivity07_01) ... "
     ]
    },
    {
     "name": "stdout",
     "output_type": "stream",
     "text": [
      "importing Jupyter notebook from Activity07_01.ipynb\n",
      "Action space =  Discrete(4)\n",
      "Observation space =  Discrete(16)\n",
      "\n",
      "\u001b[41mS\u001b[0mFFF\n",
      "FHFH\n",
      "FFFH\n",
      "HFFG\n",
      "Optimal policy:\n",
      "L/D/R  U   U   U \n",
      "  L    -  L/R  - \n",
      "  U    D   L   - \n",
      "  -    R   D   ! \n",
      "Greedy policy Q-learning performance = 0.718\n",
      "(A,S) Value function = (16, 4)\n",
      "First row\n",
      "[[0.563 0.542 0.544 0.535]\n",
      " [0.346 0.337 0.339 0.511]\n",
      " [0.443 0.439 0.429 0.478]\n",
      " [0.311 0.297 0.309 0.462]]\n",
      "Second row\n",
      "[[0.584 0.388 0.396 0.348]\n",
      " [0.    0.    0.    0.   ]\n",
      " [0.351 0.186 0.351 0.156]\n",
      " [0.    0.    0.    0.   ]]\n",
      "Third row\n",
      "[[0.371 0.411 0.377 0.614]\n",
      " [0.426 0.676 0.452 0.41 ]\n",
      " [0.645 0.533 0.362 0.329]\n",
      " [0.    0.    0.    0.   ]]\n",
      "Fourth row\n",
      "[[0.    0.    0.    0.   ]\n",
      " [0.433 0.51  0.765 0.523]\n",
      " [0.75  0.882 0.831 0.797]\n",
      " [0.    0.    0.    0.   ]]\n",
      "Greedy policy found:\n",
      "  L     U     U     U  \n",
      "  L     -     L     -  \n",
      "  U     D     L     -  \n",
      "  -     R     D     !  \n",
      " \n",
      "Optimal policy:\n",
      "L/D/R  U   U   U \n",
      "  L    -  L/R  - \n",
      "  U    D   L   - \n",
      "  -    R   D   ! \n"
     ]
    },
    {
     "name": "stderr",
     "output_type": "stream",
     "text": [
      "ok\n",
      "\n",
      "----------------------------------------------------------------------\n",
      "Ran 1 test in 42.309s\n",
      "\n",
      "OK\n"
     ]
    },
    {
     "data": {
      "text/plain": [
       "<unittest.runner.TextTestResult run=1 errors=0 failures=0>"
      ]
     },
     "execution_count": 2,
     "metadata": {},
     "output_type": "execute_result"
    },
    {
     "data": {
      "image/png": "[encoded data removed]",
      "text/plain": [
       "<Figure size 432x288 with 1 Axes>"
      ]
     },
     "metadata": {
      "needs_background": "light"
     },
     "output_type": "display_data"
    }
   ],
   "source": [
    "suite = unittest.TestLoader().loadTestsFromTestCase(TestActivity07_01)\n",
    "unittest.TextTestRunner(verbosity=2).run(suite)"
   ]
  },
  {
   "cell_type": "code",
   "execution_count": null,
   "metadata": {},
   "outputs": [],
   "source": []
  }
 ],
 "metadata": {
  "kernelspec": {
   "display_name": "Python 3",
   "language": "python",
   "name": "python3"
  },
  "language_info": {
   "codemirror_mode": {
    "name": "ipython",
    "version": 3
   },
   "file_extension": ".py",
   "mimetype": "text/x-python",
   "name": "python",
   "nbconvert_exporter": "python",
   "pygments_lexer": "ipython3",
   "version": "3.7.4"
  }
 },
 "nbformat": 4,
 "nbformat_minor": 4
}
