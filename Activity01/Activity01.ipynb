{
 "cells": [
  {
   "cell_type": "code",
   "execution_count": 1,
   "metadata": {},
   "outputs": [],
   "source": [
    "import numpy as np\n",
    "import matplotlib.pyplot as plt\n",
    "%matplotlib inline\n",
    "\n",
    "import gym"
   ]
  },
  {
   "cell_type": "code",
   "execution_count": 2,
   "metadata": {},
   "outputs": [],
   "source": [
    "env = gym.make('FrozenLake-v0', is_slippery=True)"
   ]
  },
  {
   "cell_type": "code",
   "execution_count": 3,
   "metadata": {},
   "outputs": [
    {
     "name": "stdout",
     "output_type": "stream",
     "text": [
      "Action space =  Discrete(4)\n",
      "Observation space =  Discrete(16)\n"
     ]
    }
   ],
   "source": [
    "print(\"Action space = \", env.action_space)\n",
    "print(\"Observation space = \", env.observation_space)"
   ]
  },
  {
   "cell_type": "code",
   "execution_count": 4,
   "metadata": {},
   "outputs": [],
   "source": [
    "actionsDict = {}\n",
    "actionsDict[0] = \"  L  \"\n",
    "actionsDict[1] = \"  D  \"\n",
    "actionsDict[2] = \"  R  \"\n",
    "actionsDict[3] = \"  U  \"\n",
    "\n",
    "actionsDictInv = {}\n",
    "actionsDictInv[\"L\"] = 0\n",
    "actionsDictInv[\"D\"] = 1\n",
    "actionsDictInv[\"R\"] = 2\n",
    "actionsDictInv[\"U\"] = 3"
   ]
  },
  {
   "cell_type": "code",
   "execution_count": 5,
   "metadata": {},
   "outputs": [
    {
     "name": "stdout",
     "output_type": "stream",
     "text": [
      "\n",
      "\u001b[41mS\u001b[0mFFF\n",
      "FHFH\n",
      "FFFH\n",
      "HFFG\n"
     ]
    }
   ],
   "source": [
    "env.reset()\n",
    "env.render()"
   ]
  },
  {
   "cell_type": "code",
   "execution_count": 6,
   "metadata": {},
   "outputs": [
    {
     "name": "stdout",
     "output_type": "stream",
     "text": [
      "Optimal policy:\n",
      "L/D/R  U   U   U \n",
      "  L    -  L/R  - \n",
      "  U    D   L   - \n",
      "  -    R   D   ! \n"
     ]
    }
   ],
   "source": [
    "optimalPolicy = [\"L/D/R\",\"  U  \",\"  U  \",\"  U  \",\n",
    "                 \"  L  \",\"  -  \",\" L/R \",\"  -  \",\n",
    "                 \"  U  \",\"  D  \",\"  L  \",\"  -  \",\n",
    "                 \"  -  \",\"  R  \",\"  D  \",\"  !  \"]\n",
    "    \n",
    "print(\"Optimal policy:\")\n",
    "idxs = [0,4,8,12]\n",
    "for idx in idxs:\n",
    "    print(optimalPolicy[idx+0], optimalPolicy[idx+1], \n",
    "          optimalPolicy[idx+2], optimalPolicy[idx+3])"
   ]
  },
  {
   "cell_type": "code",
   "execution_count": 7,
   "metadata": {},
   "outputs": [],
   "source": [
    "def action_epsilon_greedy(q, s, epsilon=0.05):\n",
    "    if np.random.rand() > epsilon:\n",
    "        return np.argmax(q[s])\n",
    "    return np.random.randint(4)"
   ]
  },
  {
   "cell_type": "code",
   "execution_count": 8,
   "metadata": {},
   "outputs": [],
   "source": [
    "def greedy_policy(q, s):\n",
    "    return np.argmax(q[s])"
   ]
  },
  {
   "cell_type": "code",
   "execution_count": 9,
   "metadata": {},
   "outputs": [],
   "source": [
    "def average_performance(policy_fct, q):\n",
    "    acc_returns = 0.\n",
    "    n = 500\n",
    "    for i in range(n):\n",
    "        done = False\n",
    "        s = env.reset()\n",
    "        while not done:\n",
    "            a = policy_fct(q, s)\n",
    "            s, reward, done, info = env.step(a)\n",
    "            acc_returns += reward\n",
    "    return acc_returns/n"
   ]
  },
  {
   "cell_type": "code",
   "execution_count": 10,
   "metadata": {},
   "outputs": [],
   "source": [
    "q = np.ones((16, 4))\n",
    "# Set q(terminal,*) equal to 0\n",
    "q[5,:] = 0.0\n",
    "q[7,:] = 0.0\n",
    "q[11,:] = 0.0\n",
    "q[12,:] = 0.0\n",
    "q[15,:] = 0.0"
   ]
  },
  {
   "cell_type": "code",
   "execution_count": 11,
   "metadata": {},
   "outputs": [],
   "source": [
    "nb_episodes = 80000\n",
    "STEPS = 2000\n",
    "alpha = 0.01\n",
    "gamma = 0.99\n",
    "epsilon_expl = 0.2\n",
    "\n",
    "q_performance = np.ndarray(nb_episodes//STEPS) "
   ]
  },
  {
   "cell_type": "code",
   "execution_count": 12,
   "metadata": {},
   "outputs": [],
   "source": [
    "# Q-Learning: Off-policy TD control algorithm\n",
    "for i in range(nb_episodes):\n",
    "        \n",
    "    done = False\n",
    "    s = env.reset()\n",
    "    while not done:\n",
    "        a = action_epsilon_greedy(q, s, epsilon_expl) # behaviour policy \n",
    "        new_s, reward, done, info = env.step(a)\n",
    "        a_max = np.argmax(q[new_s]) # estimation policy \n",
    "        q[s, a] = q[s, a] + alpha * (reward + gamma * q[new_s, a_max] - q[s, a])\n",
    "        s = new_s\n",
    "        \n",
    "    # for plotting the performance    \n",
    "    if i%STEPS == 0:\n",
    "        q_performance[i//STEPS] = average_performance(greedy_policy, q)"
   ]
  },
  {
   "cell_type": "code",
   "execution_count": 13,
   "metadata": {},
   "outputs": [
    {
     "data": {
      "text/plain": [
       "Text(0.5, 1.0, 'Learning progress for Q-Learning')"
      ]
     },
     "execution_count": 13,
     "metadata": {},
     "output_type": "execute_result"
    },
    {
     "data": {
      "image/png": "[encoded data removed]",
      "text/plain": [
       "<Figure size 432x288 with 1 Axes>"
      ]
     },
     "metadata": {
      "needs_background": "light"
     },
     "output_type": "display_data"
    }
   ],
   "source": [
    "plt.plot(STEPS * np.arange(nb_episodes//STEPS), q_performance)\n",
    "plt.xlabel(\"Epochs\")\n",
    "plt.ylabel(\"Average reward of an epoch\")\n",
    "plt.title(\"Learning progress for Q-Learning\")"
   ]
  },
  {
   "cell_type": "code",
   "execution_count": 14,
   "metadata": {},
   "outputs": [
    {
     "name": "stdout",
     "output_type": "stream",
     "text": [
      "Greedy policy Q-learning performance = 0.708\n"
     ]
    }
   ],
   "source": [
    "greedyPolicyAvgPerf = average_performance(greedy_policy, q=q)\n",
    "print(\"Greedy policy Q-learning performance =\", greedyPolicyAvgPerf) "
   ]
  },
  {
   "cell_type": "code",
   "execution_count": 15,
   "metadata": {},
   "outputs": [
    {
     "name": "stdout",
     "output_type": "stream",
     "text": [
      "(A,S) Value function = (16, 4)\n",
      "First row\n",
      "[[0.543 0.521 0.516 0.515]\n",
      " [0.319 0.355 0.322 0.493]\n",
      " [0.432 0.431 0.425 0.461]\n",
      " [0.32  0.298 0.296 0.447]]\n",
      "Second row\n",
      "[[0.559 0.392 0.396 0.393]\n",
      " [0.    0.    0.    0.   ]\n",
      " [0.296 0.224 0.327 0.145]\n",
      " [0.    0.    0.    0.   ]]\n",
      "Third row\n",
      "[[0.337 0.366 0.42  0.595]\n",
      " [0.484 0.639 0.433 0.415]\n",
      " [0.599 0.511 0.342 0.336]\n",
      " [0.    0.    0.    0.   ]]\n",
      "Fourth row\n",
      "[[0.    0.    0.    0.   ]\n",
      " [0.46  0.53  0.749 0.525]\n",
      " [0.711 0.865 0.802 0.799]\n",
      " [0.    0.    0.    0.   ]]\n"
     ]
    }
   ],
   "source": [
    "q = np.round(q,3)\n",
    "print(\"(A,S) Value function =\", q.shape)\n",
    "print(\"First row\")\n",
    "print(q[0:4,:])\n",
    "print(\"Second row\")\n",
    "print(q[4:8,:])\n",
    "print(\"Third row\")\n",
    "print(q[8:12,:])\n",
    "print(\"Fourth row\")\n",
    "print(q[12:16,:])"
   ]
  },
  {
   "cell_type": "code",
   "execution_count": 16,
   "metadata": {},
   "outputs": [
    {
     "name": "stdout",
     "output_type": "stream",
     "text": [
      "Greedy policy found:\n",
      "  L     U     U     U  \n",
      "  L     -     R     -  \n",
      "  U     D     L     -  \n",
      "  -     R     D     !  \n",
      " \n",
      "Optimal policy:\n",
      "L/D/R  U   U   U \n",
      "  L    -  L/R  - \n",
      "  U    D   L   - \n",
      "  -    R   D   ! \n"
     ]
    }
   ],
   "source": [
    "policyFound = [actionsDict[np.argmax(q[0,:])],actionsDict[np.argmax(q[1,:])],actionsDict[np.argmax(q[2,:])],actionsDict[np.argmax(q[3,:])],\n",
    "               actionsDict[np.argmax(q[4,:])],\"  -  \",actionsDict[np.argmax(q[6,:])],\"  -  \",\n",
    "               actionsDict[np.argmax(q[8,:])],actionsDict[np.argmax(q[9,:])],actionsDict[np.argmax(q[10,:])],\"  -  \",\n",
    "               \"  -  \",actionsDict[np.argmax(q[13,:])],actionsDict[np.argmax(q[14,:])],\"  !  \"]\n",
    "print(\"Greedy policy found:\")\n",
    "idxs = [0,4,8,12]\n",
    "for idx in idxs:\n",
    "    print(policyFound[idx+0], policyFound[idx+1], \n",
    "          policyFound[idx+2], policyFound[idx+3])\n",
    "\n",
    "print(\" \")\n",
    "\n",
    "print(\"Optimal policy:\")\n",
    "idxs = [0,4,8,12]\n",
    "for idx in idxs:\n",
    "    print(optimalPolicy[idx+0], optimalPolicy[idx+1], \n",
    "          optimalPolicy[idx+2], optimalPolicy[idx+3])"
   ]
  },
  {
   "cell_type": "code",
   "execution_count": null,
   "metadata": {},
   "outputs": [],
   "source": []
  }
 ],
 "metadata": {
  "kernelspec": {
   "display_name": "Python 3",
   "language": "python",
   "name": "python3"
  },
  "language_info": {
   "codemirror_mode": {
    "name": "ipython",
    "version": 3
   },
   "file_extension": ".py",
   "mimetype": "text/x-python",
   "name": "python",
   "nbconvert_exporter": "python",
   "pygments_lexer": "ipython3",
   "version": "3.7.4"
  }
 },
 "nbformat": 4,
 "nbformat_minor": 4
}
